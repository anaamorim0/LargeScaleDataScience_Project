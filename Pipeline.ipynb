{
 "cells": [
  {
   "cell_type": "markdown",
   "id": "680ea081a7555724",
   "metadata": {},
   "source": [
    "## Machine Learning Pipeline"
   ]
  },
  {
   "cell_type": "markdown",
   "id": "d1a9bed0-688a-46d3-ba4e-1806a301bd33",
   "metadata": {},
   "source": [
    "We developed a complete Machine Learning pipeline with the goal of predicting the **fare_amount** variable from the regular dataset — green_tripdata_2015-01.parquet — previously used."
   ]
  },
  {
   "cell_type": "code",
   "execution_count": 45,
   "id": "c721e2efd13c97e9",
   "metadata": {
    "ExecuteTime": {
     "end_time": "2024-05-11T19:01:29.559930Z",
     "start_time": "2024-05-11T19:01:29.486158Z"
    }
   },
   "outputs": [],
   "source": [
    "import pandas as pd\n",
    "import numpy as np\n",
    "from sklearn.linear_model import LogisticRegression\n",
    "from sklearn.model_selection import train_test_split, cross_val_score, GridSearchCV\n",
    "from sklearn.metrics import mean_absolute_error, mean_squared_error, r2_score, accuracy_score, precision_score, recall_score, f1_score, ConfusionMatrixDisplay, classification_report\n",
    "from sklearn.preprocessing import StandardScaler\n",
    "import xgboost as xgb\n",
    "from xgboost import XGBRegressor\n",
    "import seaborn as sns\n",
    "import matplotlib.pyplot as plt"
   ]
  },
  {
   "cell_type": "markdown",
   "id": "ceeed328-afc9-4a3b-9c8f-b5331f4edeb3",
   "metadata": {},
   "source": [
    "### Reading the data"
   ]
  },
  {
   "cell_type": "code",
   "execution_count": 46,
   "id": "3cf5370c49a78e06",
   "metadata": {
    "ExecuteTime": {
     "end_time": "2024-05-11T19:01:39.563899Z",
     "start_time": "2024-05-11T19:01:29.561918Z"
    }
   },
   "outputs": [],
   "source": [
    "test = \"green_tripdata_2015-01.parquet\"\n",
    "\n",
    "df = pd.read_parquet(test)"
   ]
  },
  {
   "cell_type": "code",
   "execution_count": 47,
   "id": "541d9dcabb8c7338",
   "metadata": {
    "ExecuteTime": {
     "end_time": "2024-05-11T19:01:39.641743Z",
     "start_time": "2024-05-11T19:01:39.580945Z"
    }
   },
   "outputs": [
    {
     "data": {
      "text/plain": [
       "VendorID                          int64\n",
       "lpep_pickup_datetime     datetime64[us]\n",
       "lpep_dropoff_datetime    datetime64[us]\n",
       "store_and_fwd_flag               object\n",
       "RatecodeID                        int64\n",
       "PULocationID                      int64\n",
       "DOLocationID                      int64\n",
       "passenger_count                   int64\n",
       "trip_distance                   float64\n",
       "fare_amount                     float64\n",
       "extra                           float64\n",
       "mta_tax                         float64\n",
       "tip_amount                      float64\n",
       "tolls_amount                    float64\n",
       "ehail_fee                        object\n",
       "improvement_surcharge           float64\n",
       "total_amount                    float64\n",
       "payment_type                      int64\n",
       "trip_type                       float64\n",
       "congestion_surcharge             object\n",
       "dtype: object"
      ]
     },
     "execution_count": 47,
     "metadata": {},
     "output_type": "execute_result"
    }
   ],
   "source": [
    "df.dtypes"
   ]
  },
  {
   "cell_type": "code",
   "execution_count": 48,
   "id": "72b76ce7bd991cad",
   "metadata": {
    "ExecuteTime": {
     "end_time": "2024-05-11T19:01:39.725417Z",
     "start_time": "2024-05-11T19:01:39.646728Z"
    }
   },
   "outputs": [
    {
     "name": "stdout",
     "output_type": "stream",
     "text": [
      "File has 1508493 entries\n",
      "Index(['VendorID', 'lpep_pickup_datetime', 'lpep_dropoff_datetime',\n",
      "       'store_and_fwd_flag', 'RatecodeID', 'PULocationID', 'DOLocationID',\n",
      "       'passenger_count', 'trip_distance', 'fare_amount', 'extra', 'mta_tax',\n",
      "       'tip_amount', 'tolls_amount', 'ehail_fee', 'improvement_surcharge',\n",
      "       'total_amount', 'payment_type', 'trip_type', 'congestion_surcharge'],\n",
      "      dtype='object')\n",
      "\n",
      "    VendorID lpep_pickup_datetime lpep_dropoff_datetime store_and_fwd_flag  \\\n",
      "0          2  2015-01-01 00:31:10   2015-01-01 00:50:41                  N   \n",
      "1          2  2015-01-01 00:01:05   2015-01-01 00:03:30                  N   \n",
      "2          2  2015-01-01 00:09:01   2015-01-01 00:33:26                  N   \n",
      "3          2  2015-01-01 00:17:34   2015-01-01 00:27:07                  N   \n",
      "4          2  2015-01-01 00:32:38   2015-01-01 00:40:32                  N   \n",
      "5          2  2015-01-01 00:45:30   2015-01-01 01:01:00                  N   \n",
      "6          1  2015-01-01 00:54:04   2015-01-01 01:15:52                  N   \n",
      "7          1  2015-01-01 00:07:16   2015-01-01 00:10:52                  N   \n",
      "8          1  2015-01-01 00:14:30   2015-01-01 00:18:55                  N   \n",
      "9          1  2015-01-01 00:40:52   2015-01-01 00:46:26                  N   \n",
      "10         1  2015-01-01 00:50:57   2015-01-01 01:10:09                  N   \n",
      "11         2  2015-01-01 00:57:48   2015-01-01 01:20:19                  N   \n",
      "12         2  2015-01-01 00:36:14   2015-01-01 00:39:42                  N   \n",
      "13         2  2015-01-01 00:46:00   2015-01-01 01:14:53                  N   \n",
      "14         1  2015-01-01 00:41:29   2015-01-01 00:47:57                  N   \n",
      "15         1  2015-01-01 00:53:14   2015-01-01 01:29:36                  N   \n",
      "16         2  2015-01-01 00:12:30   2015-01-01 00:19:41                  N   \n",
      "17         2  2015-01-01 00:24:32   2015-01-01 00:28:00                  N   \n",
      "18         2  2015-01-01 00:38:38   2015-01-01 00:49:47                  N   \n",
      "19         2  2015-01-01 00:54:09   2015-01-01 00:55:29                  N   \n",
      "\n",
      "    RatecodeID  PULocationID  DOLocationID  passenger_count  trip_distance  \\\n",
      "0            1           255           234                1           5.88   \n",
      "1            1            75            74                1           0.89   \n",
      "2            1            43           186                1           5.71   \n",
      "3            1            80            36                1           1.89   \n",
      "4            1            37            17                1           1.07   \n",
      "5            1            80            97                1           2.33   \n",
      "6            1            25             7                1          10.80   \n",
      "7            1           223             7                1           0.70   \n",
      "8            1             7           146                1           1.00   \n",
      "9            1           223             7                1           1.10   \n",
      "10           1             7            36                2           7.40   \n",
      "11           1            80           225                1           4.07   \n",
      "12           1             7           179                2           0.76   \n",
      "13           1             7           234                3           4.45   \n",
      "14           1            17           225                4           1.00   \n",
      "15           1           225            68                1           8.20   \n",
      "16           1            74           166                1           1.61   \n",
      "17           1            41           116                1           0.81   \n",
      "18           1            42           244                1           1.90   \n",
      "19           1           244           244                1           0.07   \n",
      "\n",
      "    fare_amount  extra  mta_tax  tip_amount  tolls_amount ehail_fee  \\\n",
      "0          20.0    0.5      0.5        4.10           0.0      None   \n",
      "1           4.5    0.5      0.5        0.00           0.0      None   \n",
      "2          22.0    0.5      0.5        0.00           0.0      None   \n",
      "3           8.5    0.5      0.5        0.00           0.0      None   \n",
      "4           6.5    0.5      0.5        0.00           0.0      None   \n",
      "5          10.5    0.5      0.5        0.00           0.0      None   \n",
      "6          32.0    0.5      0.5        0.00           0.0      None   \n",
      "7           4.5    0.5      0.5        0.00           0.0      None   \n",
      "8           5.5    0.5      0.5        0.00           0.0      None   \n",
      "9           6.0    0.5      0.5        0.00           0.0      None   \n",
      "10         23.5    0.5      0.5        4.95           0.0      None   \n",
      "11         17.5    0.5      0.5        0.00           0.0      None   \n",
      "12          4.5    0.5      0.5        1.50           0.0      None   \n",
      "13         21.5    0.5      0.5        0.00           0.0      None   \n",
      "14          6.5    0.5      0.5       20.00           0.0      None   \n",
      "15         30.0    0.5      0.5        6.25           0.0      None   \n",
      "16          7.5    0.5      0.5        0.00           0.0      None   \n",
      "17          5.0    0.5      0.5        0.00           0.0      None   \n",
      "18          9.0    0.5      0.5        0.00           0.0      None   \n",
      "19         -3.0   -0.5     -0.5        0.00           0.0      None   \n",
      "\n",
      "    improvement_surcharge  total_amount  payment_type  trip_type  \\\n",
      "0                     0.3         25.40             1        1.0   \n",
      "1                     0.3          5.80             2        1.0   \n",
      "2                     0.3         23.30             1        1.0   \n",
      "3                     0.3          9.80             2        1.0   \n",
      "4                     0.3          7.80             2        1.0   \n",
      "5                     0.3         11.80             2        1.0   \n",
      "6                     0.3         33.30             2        1.0   \n",
      "7                     0.3          5.80             2        1.0   \n",
      "8                     0.3          6.80             2        1.0   \n",
      "9                     0.3          7.30             2        1.0   \n",
      "10                    0.3         29.75             1        1.0   \n",
      "11                    0.3         18.80             2        1.0   \n",
      "12                    0.3          7.30             1        1.0   \n",
      "13                    0.3         22.80             2        1.0   \n",
      "14                    0.3         27.80             1        1.0   \n",
      "15                    0.3         37.55             1        1.0   \n",
      "16                    0.3          8.80             2        1.0   \n",
      "17                    0.3          6.30             2        1.0   \n",
      "18                    0.3         10.30             2        1.0   \n",
      "19                    0.3         -4.30             4        1.0   \n",
      "\n",
      "   congestion_surcharge  \n",
      "0                  None  \n",
      "1                  None  \n",
      "2                  None  \n",
      "3                  None  \n",
      "4                  None  \n",
      "5                  None  \n",
      "6                  None  \n",
      "7                  None  \n",
      "8                  None  \n",
      "9                  None  \n",
      "10                 None  \n",
      "11                 None  \n",
      "12                 None  \n",
      "13                 None  \n",
      "14                 None  \n",
      "15                 None  \n",
      "16                 None  \n",
      "17                 None  \n",
      "18                 None  \n",
      "19                 None  \n"
     ]
    }
   ],
   "source": [
    "print(f\"File has {len(df)} entries\")\n",
    "print(df.columns)\n",
    "print()\n",
    "print(df.head(20))"
   ]
  },
  {
   "cell_type": "markdown",
   "id": "5a871970-43e2-4115-9ac2-96e27b974d03",
   "metadata": {},
   "source": [
    "### Preprocessing"
   ]
  },
  {
   "cell_type": "code",
   "execution_count": 49,
   "id": "4918b02d6b6ba92d",
   "metadata": {
    "ExecuteTime": {
     "end_time": "2024-05-11T19:01:40.106608Z",
     "start_time": "2024-05-11T19:01:39.726410Z"
    }
   },
   "outputs": [],
   "source": [
    "# Add a column with the trip duration\n",
    "df.insert(loc=0, column='duration', value=(df['lpep_dropoff_datetime'] - df['lpep_pickup_datetime']).dt.total_seconds(), allow_duplicates=True)"
   ]
  },
  {
   "cell_type": "code",
   "execution_count": 50,
   "id": "66cc61145641fcc4",
   "metadata": {
    "ExecuteTime": {
     "end_time": "2024-05-11T19:01:40.331638Z",
     "start_time": "2024-05-11T19:01:40.107602Z"
    }
   },
   "outputs": [
    {
     "data": {
      "text/html": [
       "<div>\n",
       "<style scoped>\n",
       "    .dataframe tbody tr th:only-of-type {\n",
       "        vertical-align: middle;\n",
       "    }\n",
       "\n",
       "    .dataframe tbody tr th {\n",
       "        vertical-align: top;\n",
       "    }\n",
       "\n",
       "    .dataframe thead th {\n",
       "        text-align: right;\n",
       "    }\n",
       "</style>\n",
       "<table border=\"1\" class=\"dataframe\">\n",
       "  <thead>\n",
       "    <tr style=\"text-align: right;\">\n",
       "      <th></th>\n",
       "      <th>duration</th>\n",
       "      <th>trip_distance</th>\n",
       "      <th>fare_amount</th>\n",
       "    </tr>\n",
       "  </thead>\n",
       "  <tbody>\n",
       "    <tr>\n",
       "      <th>0</th>\n",
       "      <td>1171.0</td>\n",
       "      <td>5.88</td>\n",
       "      <td>20.0</td>\n",
       "    </tr>\n",
       "    <tr>\n",
       "      <th>1</th>\n",
       "      <td>145.0</td>\n",
       "      <td>0.89</td>\n",
       "      <td>4.5</td>\n",
       "    </tr>\n",
       "    <tr>\n",
       "      <th>2</th>\n",
       "      <td>1465.0</td>\n",
       "      <td>5.71</td>\n",
       "      <td>22.0</td>\n",
       "    </tr>\n",
       "    <tr>\n",
       "      <th>3</th>\n",
       "      <td>573.0</td>\n",
       "      <td>1.89</td>\n",
       "      <td>8.5</td>\n",
       "    </tr>\n",
       "    <tr>\n",
       "      <th>4</th>\n",
       "      <td>474.0</td>\n",
       "      <td>1.07</td>\n",
       "      <td>6.5</td>\n",
       "    </tr>\n",
       "    <tr>\n",
       "      <th>...</th>\n",
       "      <td>...</td>\n",
       "      <td>...</td>\n",
       "      <td>...</td>\n",
       "    </tr>\n",
       "    <tr>\n",
       "      <th>1508488</th>\n",
       "      <td>911.0</td>\n",
       "      <td>3.91</td>\n",
       "      <td>14.5</td>\n",
       "    </tr>\n",
       "    <tr>\n",
       "      <th>1508489</th>\n",
       "      <td>868.0</td>\n",
       "      <td>2.00</td>\n",
       "      <td>11.0</td>\n",
       "    </tr>\n",
       "    <tr>\n",
       "      <th>1508490</th>\n",
       "      <td>1583.0</td>\n",
       "      <td>4.70</td>\n",
       "      <td>20.5</td>\n",
       "    </tr>\n",
       "    <tr>\n",
       "      <th>1508491</th>\n",
       "      <td>672.0</td>\n",
       "      <td>5.98</td>\n",
       "      <td>18.0</td>\n",
       "    </tr>\n",
       "    <tr>\n",
       "      <th>1508492</th>\n",
       "      <td>6.0</td>\n",
       "      <td>0.00</td>\n",
       "      <td>0.0</td>\n",
       "    </tr>\n",
       "  </tbody>\n",
       "</table>\n",
       "<p>1508493 rows × 3 columns</p>\n",
       "</div>"
      ],
      "text/plain": [
       "         duration  trip_distance  fare_amount\n",
       "0          1171.0           5.88         20.0\n",
       "1           145.0           0.89          4.5\n",
       "2          1465.0           5.71         22.0\n",
       "3           573.0           1.89          8.5\n",
       "4           474.0           1.07          6.5\n",
       "...           ...            ...          ...\n",
       "1508488     911.0           3.91         14.5\n",
       "1508489     868.0           2.00         11.0\n",
       "1508490    1583.0           4.70         20.5\n",
       "1508491     672.0           5.98         18.0\n",
       "1508492       6.0           0.00          0.0\n",
       "\n",
       "[1508493 rows x 3 columns]"
      ]
     },
     "execution_count": 50,
     "metadata": {},
     "output_type": "execute_result"
    }
   ],
   "source": [
    "# Removes all the columns that are not necessary\n",
    "df.drop(columns=[\"VendorID\",\"lpep_pickup_datetime\", \"lpep_dropoff_datetime\", \"store_and_fwd_flag\", \"RatecodeID\", \"PULocationID\", \"DOLocationID\", \"passenger_count\", \"extra\", \"mta_tax\", \"tip_amount\", \"tolls_amount\", \"ehail_fee\", \"improvement_surcharge\", \"total_amount\", \"payment_type\", \"trip_type\", \"congestion_surcharge\"]) "
   ]
  },
  {
   "cell_type": "code",
   "execution_count": 51,
   "id": "03be94f4-a0e3-4de0-8ed2-df1a862d64e0",
   "metadata": {},
   "outputs": [
    {
     "name": "stdout",
     "output_type": "stream",
     "text": [
      "Tamanho do DataFrame: 1479704\n"
     ]
    }
   ],
   "source": [
    "# Remove invalid and null values\n",
    "df = df[(df['duration'] > 0) & (df['trip_distance'] > 0) & (df['fare_amount'] > 0)]\n",
    "df = df[['duration', 'trip_distance', 'fare_amount']].dropna()\n",
    "\n",
    "print(\"Tamanho do DataFrame:\", len(df))"
   ]
  },
  {
   "cell_type": "code",
   "execution_count": 52,
   "id": "11e0da03-6999-40a4-8c98-c78aed15b35d",
   "metadata": {},
   "outputs": [
    {
     "name": "stdout",
     "output_type": "stream",
     "text": [
      "Tamanho do DataFrame: 1479604\n"
     ]
    }
   ],
   "source": [
    "# Remove outliers\n",
    "df = df[df['fare_amount'] < 200]\n",
    "\n",
    "print(\"Tamanho do DataFrame:\", len(df))"
   ]
  },
  {
   "cell_type": "markdown",
   "id": "051eb6af-2db8-4f52-8cff-3eef416625a2",
   "metadata": {},
   "source": [
    "### Training + Testing"
   ]
  },
  {
   "cell_type": "markdown",
   "id": "e00626d1-97b0-4636-a094-bc6905362980",
   "metadata": {},
   "source": [
    "### **XGBRegressor**"
   ]
  },
  {
   "cell_type": "code",
   "execution_count": 53,
   "id": "d4c60556163bd53a",
   "metadata": {
    "ExecuteTime": {
     "end_time": "2024-05-11T19:01:42.910424Z",
     "start_time": "2024-05-11T19:01:40.332633Z"
    }
   },
   "outputs": [],
   "source": [
    "# Select the features and the target variable for regression\n",
    "X_reg = df[['duration', 'trip_distance']]\n",
    "y_reg = df['fare_amount']"
   ]
  },
  {
   "cell_type": "code",
   "execution_count": 54,
   "id": "087331c0-fb1c-4825-a402-cfa85921df92",
   "metadata": {},
   "outputs": [],
   "source": [
    "# Split into training and testing\n",
    "X_train, X_test, y_train, y_test = train_test_split(X_reg, y_reg, test_size=0.2, random_state=28)"
   ]
  },
  {
   "cell_type": "code",
   "execution_count": 55,
   "id": "53db5a7c06c30605",
   "metadata": {
    "ExecuteTime": {
     "end_time": "2024-05-11T19:05:34.425870Z",
     "start_time": "2024-05-11T19:01:42.911893Z"
    }
   },
   "outputs": [],
   "source": [
    "# Create a regression model using the XGBoost algorithm\n",
    "xgb_model = XGBRegressor()"
   ]
  },
  {
   "cell_type": "markdown",
   "id": "6b6a3a91-936f-48fc-909d-456f0d26c9cd",
   "metadata": {},
   "source": [
    "*K-Fold Cross Validation (k = 5)*"
   ]
  },
  {
   "cell_type": "code",
   "execution_count": 56,
   "id": "f68462e0-0c24-4b78-ad8b-b667ec3e6a88",
   "metadata": {},
   "outputs": [
    {
     "name": "stdout",
     "output_type": "stream",
     "text": [
      "Cross-validation MSEs: [6.80235295 6.00272378 6.10380826 6.57376428 6.10241286]\n",
      "Cross-validation RMSEs: [2.60813208 2.45004567 2.47058865 2.56393531 2.47030623]\n",
      "Média dos RMSEs: 2.5126015871777563\n"
     ]
    }
   ],
   "source": [
    "# Evaluate the regression model (XGBoost) using 5-fold cross-validation with the mean squared error (MSE)\n",
    "cv_scores = cross_val_score(xgb_model, X_train, y_train, cv=5, scoring='neg_mean_squared_error')\n",
    "\n",
    "mse_cv = -cv_scores\n",
    "rmse_cv = np.sqrt(mse_cv)\n",
    "\n",
    "print(\"Cross-validation MSEs:\", mse_cv)\n",
    "print(\"Cross-validation RMSEs:\", rmse_cv)\n",
    "print(\"Média dos RMSEs:\", np.mean(rmse_cv))"
   ]
  },
  {
   "cell_type": "code",
   "execution_count": 57,
   "id": "aebd3c7f73f637fb",
   "metadata": {
    "ExecuteTime": {
     "end_time": "2024-05-11T19:06:31.075510Z",
     "start_time": "2024-05-11T19:05:34.433661Z"
    }
   },
   "outputs": [
    {
     "data": {
      "text/html": [
       "<style>#sk-container-id-3 {\n",
       "  /* Definition of color scheme common for light and dark mode */\n",
       "  --sklearn-color-text: #000;\n",
       "  --sklearn-color-text-muted: #666;\n",
       "  --sklearn-color-line: gray;\n",
       "  /* Definition of color scheme for unfitted estimators */\n",
       "  --sklearn-color-unfitted-level-0: #fff5e6;\n",
       "  --sklearn-color-unfitted-level-1: #f6e4d2;\n",
       "  --sklearn-color-unfitted-level-2: #ffe0b3;\n",
       "  --sklearn-color-unfitted-level-3: chocolate;\n",
       "  /* Definition of color scheme for fitted estimators */\n",
       "  --sklearn-color-fitted-level-0: #f0f8ff;\n",
       "  --sklearn-color-fitted-level-1: #d4ebff;\n",
       "  --sklearn-color-fitted-level-2: #b3dbfd;\n",
       "  --sklearn-color-fitted-level-3: cornflowerblue;\n",
       "\n",
       "  /* Specific color for light theme */\n",
       "  --sklearn-color-text-on-default-background: var(--sg-text-color, var(--theme-code-foreground, var(--jp-content-font-color1, black)));\n",
       "  --sklearn-color-background: var(--sg-background-color, var(--theme-background, var(--jp-layout-color0, white)));\n",
       "  --sklearn-color-border-box: var(--sg-text-color, var(--theme-code-foreground, var(--jp-content-font-color1, black)));\n",
       "  --sklearn-color-icon: #696969;\n",
       "\n",
       "  @media (prefers-color-scheme: dark) {\n",
       "    /* Redefinition of color scheme for dark theme */\n",
       "    --sklearn-color-text-on-default-background: var(--sg-text-color, var(--theme-code-foreground, var(--jp-content-font-color1, white)));\n",
       "    --sklearn-color-background: var(--sg-background-color, var(--theme-background, var(--jp-layout-color0, #111)));\n",
       "    --sklearn-color-border-box: var(--sg-text-color, var(--theme-code-foreground, var(--jp-content-font-color1, white)));\n",
       "    --sklearn-color-icon: #878787;\n",
       "  }\n",
       "}\n",
       "\n",
       "#sk-container-id-3 {\n",
       "  color: var(--sklearn-color-text);\n",
       "}\n",
       "\n",
       "#sk-container-id-3 pre {\n",
       "  padding: 0;\n",
       "}\n",
       "\n",
       "#sk-container-id-3 input.sk-hidden--visually {\n",
       "  border: 0;\n",
       "  clip: rect(1px 1px 1px 1px);\n",
       "  clip: rect(1px, 1px, 1px, 1px);\n",
       "  height: 1px;\n",
       "  margin: -1px;\n",
       "  overflow: hidden;\n",
       "  padding: 0;\n",
       "  position: absolute;\n",
       "  width: 1px;\n",
       "}\n",
       "\n",
       "#sk-container-id-3 div.sk-dashed-wrapped {\n",
       "  border: 1px dashed var(--sklearn-color-line);\n",
       "  margin: 0 0.4em 0.5em 0.4em;\n",
       "  box-sizing: border-box;\n",
       "  padding-bottom: 0.4em;\n",
       "  background-color: var(--sklearn-color-background);\n",
       "}\n",
       "\n",
       "#sk-container-id-3 div.sk-container {\n",
       "  /* jupyter's `normalize.less` sets `[hidden] { display: none; }`\n",
       "     but bootstrap.min.css set `[hidden] { display: none !important; }`\n",
       "     so we also need the `!important` here to be able to override the\n",
       "     default hidden behavior on the sphinx rendered scikit-learn.org.\n",
       "     See: https://github.com/scikit-learn/scikit-learn/issues/21755 */\n",
       "  display: inline-block !important;\n",
       "  position: relative;\n",
       "}\n",
       "\n",
       "#sk-container-id-3 div.sk-text-repr-fallback {\n",
       "  display: none;\n",
       "}\n",
       "\n",
       "div.sk-parallel-item,\n",
       "div.sk-serial,\n",
       "div.sk-item {\n",
       "  /* draw centered vertical line to link estimators */\n",
       "  background-image: linear-gradient(var(--sklearn-color-text-on-default-background), var(--sklearn-color-text-on-default-background));\n",
       "  background-size: 2px 100%;\n",
       "  background-repeat: no-repeat;\n",
       "  background-position: center center;\n",
       "}\n",
       "\n",
       "/* Parallel-specific style estimator block */\n",
       "\n",
       "#sk-container-id-3 div.sk-parallel-item::after {\n",
       "  content: \"\";\n",
       "  width: 100%;\n",
       "  border-bottom: 2px solid var(--sklearn-color-text-on-default-background);\n",
       "  flex-grow: 1;\n",
       "}\n",
       "\n",
       "#sk-container-id-3 div.sk-parallel {\n",
       "  display: flex;\n",
       "  align-items: stretch;\n",
       "  justify-content: center;\n",
       "  background-color: var(--sklearn-color-background);\n",
       "  position: relative;\n",
       "}\n",
       "\n",
       "#sk-container-id-3 div.sk-parallel-item {\n",
       "  display: flex;\n",
       "  flex-direction: column;\n",
       "}\n",
       "\n",
       "#sk-container-id-3 div.sk-parallel-item:first-child::after {\n",
       "  align-self: flex-end;\n",
       "  width: 50%;\n",
       "}\n",
       "\n",
       "#sk-container-id-3 div.sk-parallel-item:last-child::after {\n",
       "  align-self: flex-start;\n",
       "  width: 50%;\n",
       "}\n",
       "\n",
       "#sk-container-id-3 div.sk-parallel-item:only-child::after {\n",
       "  width: 0;\n",
       "}\n",
       "\n",
       "/* Serial-specific style estimator block */\n",
       "\n",
       "#sk-container-id-3 div.sk-serial {\n",
       "  display: flex;\n",
       "  flex-direction: column;\n",
       "  align-items: center;\n",
       "  background-color: var(--sklearn-color-background);\n",
       "  padding-right: 1em;\n",
       "  padding-left: 1em;\n",
       "}\n",
       "\n",
       "\n",
       "/* Toggleable style: style used for estimator/Pipeline/ColumnTransformer box that is\n",
       "clickable and can be expanded/collapsed.\n",
       "- Pipeline and ColumnTransformer use this feature and define the default style\n",
       "- Estimators will overwrite some part of the style using the `sk-estimator` class\n",
       "*/\n",
       "\n",
       "/* Pipeline and ColumnTransformer style (default) */\n",
       "\n",
       "#sk-container-id-3 div.sk-toggleable {\n",
       "  /* Default theme specific background. It is overwritten whether we have a\n",
       "  specific estimator or a Pipeline/ColumnTransformer */\n",
       "  background-color: var(--sklearn-color-background);\n",
       "}\n",
       "\n",
       "/* Toggleable label */\n",
       "#sk-container-id-3 label.sk-toggleable__label {\n",
       "  cursor: pointer;\n",
       "  display: flex;\n",
       "  width: 100%;\n",
       "  margin-bottom: 0;\n",
       "  padding: 0.5em;\n",
       "  box-sizing: border-box;\n",
       "  text-align: center;\n",
       "  align-items: start;\n",
       "  justify-content: space-between;\n",
       "  gap: 0.5em;\n",
       "}\n",
       "\n",
       "#sk-container-id-3 label.sk-toggleable__label .caption {\n",
       "  font-size: 0.6rem;\n",
       "  font-weight: lighter;\n",
       "  color: var(--sklearn-color-text-muted);\n",
       "}\n",
       "\n",
       "#sk-container-id-3 label.sk-toggleable__label-arrow:before {\n",
       "  /* Arrow on the left of the label */\n",
       "  content: \"▸\";\n",
       "  float: left;\n",
       "  margin-right: 0.25em;\n",
       "  color: var(--sklearn-color-icon);\n",
       "}\n",
       "\n",
       "#sk-container-id-3 label.sk-toggleable__label-arrow:hover:before {\n",
       "  color: var(--sklearn-color-text);\n",
       "}\n",
       "\n",
       "/* Toggleable content - dropdown */\n",
       "\n",
       "#sk-container-id-3 div.sk-toggleable__content {\n",
       "  max-height: 0;\n",
       "  max-width: 0;\n",
       "  overflow: hidden;\n",
       "  text-align: left;\n",
       "  /* unfitted */\n",
       "  background-color: var(--sklearn-color-unfitted-level-0);\n",
       "}\n",
       "\n",
       "#sk-container-id-3 div.sk-toggleable__content.fitted {\n",
       "  /* fitted */\n",
       "  background-color: var(--sklearn-color-fitted-level-0);\n",
       "}\n",
       "\n",
       "#sk-container-id-3 div.sk-toggleable__content pre {\n",
       "  margin: 0.2em;\n",
       "  border-radius: 0.25em;\n",
       "  color: var(--sklearn-color-text);\n",
       "  /* unfitted */\n",
       "  background-color: var(--sklearn-color-unfitted-level-0);\n",
       "}\n",
       "\n",
       "#sk-container-id-3 div.sk-toggleable__content.fitted pre {\n",
       "  /* unfitted */\n",
       "  background-color: var(--sklearn-color-fitted-level-0);\n",
       "}\n",
       "\n",
       "#sk-container-id-3 input.sk-toggleable__control:checked~div.sk-toggleable__content {\n",
       "  /* Expand drop-down */\n",
       "  max-height: 200px;\n",
       "  max-width: 100%;\n",
       "  overflow: auto;\n",
       "}\n",
       "\n",
       "#sk-container-id-3 input.sk-toggleable__control:checked~label.sk-toggleable__label-arrow:before {\n",
       "  content: \"▾\";\n",
       "}\n",
       "\n",
       "/* Pipeline/ColumnTransformer-specific style */\n",
       "\n",
       "#sk-container-id-3 div.sk-label input.sk-toggleable__control:checked~label.sk-toggleable__label {\n",
       "  color: var(--sklearn-color-text);\n",
       "  background-color: var(--sklearn-color-unfitted-level-2);\n",
       "}\n",
       "\n",
       "#sk-container-id-3 div.sk-label.fitted input.sk-toggleable__control:checked~label.sk-toggleable__label {\n",
       "  background-color: var(--sklearn-color-fitted-level-2);\n",
       "}\n",
       "\n",
       "/* Estimator-specific style */\n",
       "\n",
       "/* Colorize estimator box */\n",
       "#sk-container-id-3 div.sk-estimator input.sk-toggleable__control:checked~label.sk-toggleable__label {\n",
       "  /* unfitted */\n",
       "  background-color: var(--sklearn-color-unfitted-level-2);\n",
       "}\n",
       "\n",
       "#sk-container-id-3 div.sk-estimator.fitted input.sk-toggleable__control:checked~label.sk-toggleable__label {\n",
       "  /* fitted */\n",
       "  background-color: var(--sklearn-color-fitted-level-2);\n",
       "}\n",
       "\n",
       "#sk-container-id-3 div.sk-label label.sk-toggleable__label,\n",
       "#sk-container-id-3 div.sk-label label {\n",
       "  /* The background is the default theme color */\n",
       "  color: var(--sklearn-color-text-on-default-background);\n",
       "}\n",
       "\n",
       "/* On hover, darken the color of the background */\n",
       "#sk-container-id-3 div.sk-label:hover label.sk-toggleable__label {\n",
       "  color: var(--sklearn-color-text);\n",
       "  background-color: var(--sklearn-color-unfitted-level-2);\n",
       "}\n",
       "\n",
       "/* Label box, darken color on hover, fitted */\n",
       "#sk-container-id-3 div.sk-label.fitted:hover label.sk-toggleable__label.fitted {\n",
       "  color: var(--sklearn-color-text);\n",
       "  background-color: var(--sklearn-color-fitted-level-2);\n",
       "}\n",
       "\n",
       "/* Estimator label */\n",
       "\n",
       "#sk-container-id-3 div.sk-label label {\n",
       "  font-family: monospace;\n",
       "  font-weight: bold;\n",
       "  display: inline-block;\n",
       "  line-height: 1.2em;\n",
       "}\n",
       "\n",
       "#sk-container-id-3 div.sk-label-container {\n",
       "  text-align: center;\n",
       "}\n",
       "\n",
       "/* Estimator-specific */\n",
       "#sk-container-id-3 div.sk-estimator {\n",
       "  font-family: monospace;\n",
       "  border: 1px dotted var(--sklearn-color-border-box);\n",
       "  border-radius: 0.25em;\n",
       "  box-sizing: border-box;\n",
       "  margin-bottom: 0.5em;\n",
       "  /* unfitted */\n",
       "  background-color: var(--sklearn-color-unfitted-level-0);\n",
       "}\n",
       "\n",
       "#sk-container-id-3 div.sk-estimator.fitted {\n",
       "  /* fitted */\n",
       "  background-color: var(--sklearn-color-fitted-level-0);\n",
       "}\n",
       "\n",
       "/* on hover */\n",
       "#sk-container-id-3 div.sk-estimator:hover {\n",
       "  /* unfitted */\n",
       "  background-color: var(--sklearn-color-unfitted-level-2);\n",
       "}\n",
       "\n",
       "#sk-container-id-3 div.sk-estimator.fitted:hover {\n",
       "  /* fitted */\n",
       "  background-color: var(--sklearn-color-fitted-level-2);\n",
       "}\n",
       "\n",
       "/* Specification for estimator info (e.g. \"i\" and \"?\") */\n",
       "\n",
       "/* Common style for \"i\" and \"?\" */\n",
       "\n",
       ".sk-estimator-doc-link,\n",
       "a:link.sk-estimator-doc-link,\n",
       "a:visited.sk-estimator-doc-link {\n",
       "  float: right;\n",
       "  font-size: smaller;\n",
       "  line-height: 1em;\n",
       "  font-family: monospace;\n",
       "  background-color: var(--sklearn-color-background);\n",
       "  border-radius: 1em;\n",
       "  height: 1em;\n",
       "  width: 1em;\n",
       "  text-decoration: none !important;\n",
       "  margin-left: 0.5em;\n",
       "  text-align: center;\n",
       "  /* unfitted */\n",
       "  border: var(--sklearn-color-unfitted-level-1) 1pt solid;\n",
       "  color: var(--sklearn-color-unfitted-level-1);\n",
       "}\n",
       "\n",
       ".sk-estimator-doc-link.fitted,\n",
       "a:link.sk-estimator-doc-link.fitted,\n",
       "a:visited.sk-estimator-doc-link.fitted {\n",
       "  /* fitted */\n",
       "  border: var(--sklearn-color-fitted-level-1) 1pt solid;\n",
       "  color: var(--sklearn-color-fitted-level-1);\n",
       "}\n",
       "\n",
       "/* On hover */\n",
       "div.sk-estimator:hover .sk-estimator-doc-link:hover,\n",
       ".sk-estimator-doc-link:hover,\n",
       "div.sk-label-container:hover .sk-estimator-doc-link:hover,\n",
       ".sk-estimator-doc-link:hover {\n",
       "  /* unfitted */\n",
       "  background-color: var(--sklearn-color-unfitted-level-3);\n",
       "  color: var(--sklearn-color-background);\n",
       "  text-decoration: none;\n",
       "}\n",
       "\n",
       "div.sk-estimator.fitted:hover .sk-estimator-doc-link.fitted:hover,\n",
       ".sk-estimator-doc-link.fitted:hover,\n",
       "div.sk-label-container:hover .sk-estimator-doc-link.fitted:hover,\n",
       ".sk-estimator-doc-link.fitted:hover {\n",
       "  /* fitted */\n",
       "  background-color: var(--sklearn-color-fitted-level-3);\n",
       "  color: var(--sklearn-color-background);\n",
       "  text-decoration: none;\n",
       "}\n",
       "\n",
       "/* Span, style for the box shown on hovering the info icon */\n",
       ".sk-estimator-doc-link span {\n",
       "  display: none;\n",
       "  z-index: 9999;\n",
       "  position: relative;\n",
       "  font-weight: normal;\n",
       "  right: .2ex;\n",
       "  padding: .5ex;\n",
       "  margin: .5ex;\n",
       "  width: min-content;\n",
       "  min-width: 20ex;\n",
       "  max-width: 50ex;\n",
       "  color: var(--sklearn-color-text);\n",
       "  box-shadow: 2pt 2pt 4pt #999;\n",
       "  /* unfitted */\n",
       "  background: var(--sklearn-color-unfitted-level-0);\n",
       "  border: .5pt solid var(--sklearn-color-unfitted-level-3);\n",
       "}\n",
       "\n",
       ".sk-estimator-doc-link.fitted span {\n",
       "  /* fitted */\n",
       "  background: var(--sklearn-color-fitted-level-0);\n",
       "  border: var(--sklearn-color-fitted-level-3);\n",
       "}\n",
       "\n",
       ".sk-estimator-doc-link:hover span {\n",
       "  display: block;\n",
       "}\n",
       "\n",
       "/* \"?\"-specific style due to the `<a>` HTML tag */\n",
       "\n",
       "#sk-container-id-3 a.estimator_doc_link {\n",
       "  float: right;\n",
       "  font-size: 1rem;\n",
       "  line-height: 1em;\n",
       "  font-family: monospace;\n",
       "  background-color: var(--sklearn-color-background);\n",
       "  border-radius: 1rem;\n",
       "  height: 1rem;\n",
       "  width: 1rem;\n",
       "  text-decoration: none;\n",
       "  /* unfitted */\n",
       "  color: var(--sklearn-color-unfitted-level-1);\n",
       "  border: var(--sklearn-color-unfitted-level-1) 1pt solid;\n",
       "}\n",
       "\n",
       "#sk-container-id-3 a.estimator_doc_link.fitted {\n",
       "  /* fitted */\n",
       "  border: var(--sklearn-color-fitted-level-1) 1pt solid;\n",
       "  color: var(--sklearn-color-fitted-level-1);\n",
       "}\n",
       "\n",
       "/* On hover */\n",
       "#sk-container-id-3 a.estimator_doc_link:hover {\n",
       "  /* unfitted */\n",
       "  background-color: var(--sklearn-color-unfitted-level-3);\n",
       "  color: var(--sklearn-color-background);\n",
       "  text-decoration: none;\n",
       "}\n",
       "\n",
       "#sk-container-id-3 a.estimator_doc_link.fitted:hover {\n",
       "  /* fitted */\n",
       "  background-color: var(--sklearn-color-fitted-level-3);\n",
       "}\n",
       "</style><div id=\"sk-container-id-3\" class=\"sk-top-container\"><div class=\"sk-text-repr-fallback\"><pre>XGBRegressor(base_score=None, booster=None, callbacks=None,\n",
       "             colsample_bylevel=None, colsample_bynode=None,\n",
       "             colsample_bytree=None, device=None, early_stopping_rounds=None,\n",
       "             enable_categorical=False, eval_metric=None, feature_types=None,\n",
       "             feature_weights=None, gamma=None, grow_policy=None,\n",
       "             importance_type=None, interaction_constraints=None,\n",
       "             learning_rate=None, max_bin=None, max_cat_threshold=None,\n",
       "             max_cat_to_onehot=None, max_delta_step=None, max_depth=None,\n",
       "             max_leaves=None, min_child_weight=None, missing=nan,\n",
       "             monotone_constraints=None, multi_strategy=None, n_estimators=None,\n",
       "             n_jobs=None, num_parallel_tree=None, ...)</pre><b>In a Jupyter environment, please rerun this cell to show the HTML representation or trust the notebook. <br />On GitHub, the HTML representation is unable to render, please try loading this page with nbviewer.org.</b></div><div class=\"sk-container\" hidden><div class=\"sk-item\"><div class=\"sk-estimator fitted sk-toggleable\"><input class=\"sk-toggleable__control sk-hidden--visually\" id=\"sk-estimator-id-3\" type=\"checkbox\" checked><label for=\"sk-estimator-id-3\" class=\"sk-toggleable__label fitted sk-toggleable__label-arrow\"><div><div>XGBRegressor</div></div><div><a class=\"sk-estimator-doc-link fitted\" rel=\"noreferrer\" target=\"_blank\" href=\"https://xgboost.readthedocs.io/en/release_3.0.0/python/python_api.html#xgboost.XGBRegressor\">?<span>Documentation for XGBRegressor</span></a><span class=\"sk-estimator-doc-link fitted\">i<span>Fitted</span></span></div></label><div class=\"sk-toggleable__content fitted\"><pre>XGBRegressor(base_score=None, booster=None, callbacks=None,\n",
       "             colsample_bylevel=None, colsample_bynode=None,\n",
       "             colsample_bytree=None, device=None, early_stopping_rounds=None,\n",
       "             enable_categorical=False, eval_metric=None, feature_types=None,\n",
       "             feature_weights=None, gamma=None, grow_policy=None,\n",
       "             importance_type=None, interaction_constraints=None,\n",
       "             learning_rate=None, max_bin=None, max_cat_threshold=None,\n",
       "             max_cat_to_onehot=None, max_delta_step=None, max_depth=None,\n",
       "             max_leaves=None, min_child_weight=None, missing=nan,\n",
       "             monotone_constraints=None, multi_strategy=None, n_estimators=None,\n",
       "             n_jobs=None, num_parallel_tree=None, ...)</pre></div> </div></div></div></div>"
      ],
      "text/plain": [
       "XGBRegressor(base_score=None, booster=None, callbacks=None,\n",
       "             colsample_bylevel=None, colsample_bynode=None,\n",
       "             colsample_bytree=None, device=None, early_stopping_rounds=None,\n",
       "             enable_categorical=False, eval_metric=None, feature_types=None,\n",
       "             feature_weights=None, gamma=None, grow_policy=None,\n",
       "             importance_type=None, interaction_constraints=None,\n",
       "             learning_rate=None, max_bin=None, max_cat_threshold=None,\n",
       "             max_cat_to_onehot=None, max_delta_step=None, max_depth=None,\n",
       "             max_leaves=None, min_child_weight=None, missing=nan,\n",
       "             monotone_constraints=None, multi_strategy=None, n_estimators=None,\n",
       "             n_jobs=None, num_parallel_tree=None, ...)"
      ]
     },
     "execution_count": 57,
     "metadata": {},
     "output_type": "execute_result"
    }
   ],
   "source": [
    "xgb_model.fit(X_train, y_train)"
   ]
  },
  {
   "cell_type": "markdown",
   "id": "6f0ad1e7386a267e",
   "metadata": {},
   "source": [
    "*Hyperparameter tuning*"
   ]
  },
  {
   "cell_type": "code",
   "execution_count": 58,
   "id": "b69d89645d5e0fe9",
   "metadata": {
    "ExecuteTime": {
     "end_time": "2024-05-11T19:52:40.329590Z",
     "start_time": "2024-05-11T19:06:31.084041Z"
    }
   },
   "outputs": [
    {
     "name": "stdout",
     "output_type": "stream",
     "text": [
      "Fitting 3 folds for each of 9 candidates, totalling 27 fits\n"
     ]
    }
   ],
   "source": [
    "# Perform hyperparameter tuning of the XGBoost model using GridSearchCV with cross-validation (cv=3)\n",
    "param_grid = {\n",
    "    'learning_rate': [0.1, 0.3, 0.5],\n",
    "    'max_depth': [3, 5, 7],\n",
    "    'n_estimators': [50]  # We used only 50 to reduce the execution time.\n",
    "}\n",
    "\n",
    "grid_search = GridSearchCV(\n",
    "    estimator=XGBRegressor(),\n",
    "    param_grid=param_grid,\n",
    "    scoring='neg_mean_squared_error',\n",
    "    cv=3,\n",
    "    n_jobs=1,\n",
    "    verbose=1\n",
    ")\n",
    "\n",
    "grid_search.fit(X_train, y_train)\n",
    "\n",
    "best_params = grid_search.best_params_\n",
    "best_model = grid_search.best_estimator_"
   ]
  },
  {
   "cell_type": "code",
   "execution_count": 59,
   "id": "a1b40875bc205b4b",
   "metadata": {},
   "outputs": [
    {
     "name": "stdout",
     "output_type": "stream",
     "text": [
      "Melhores parâmetros encontrados: {'learning_rate': 0.1, 'max_depth': 5, 'n_estimators': 50}\n",
      "MAE (Mean Absolute Error): 0.5487087919183207\n",
      "MSE (Mean Squared Error): 6.44641180760769\n",
      "RMSE: 2.538978496877768\n",
      "R^2: 0.9121837268180533\n"
     ]
    }
   ],
   "source": [
    "y_pred = best_model.predict(X_test)\n",
    "\n",
    "# Calculation of Regression Metrics\n",
    "mae = mean_absolute_error(y_test, y_pred)\n",
    "mse = mean_squared_error(y_test, y_pred)\n",
    "rmse = np.sqrt(mse)\n",
    "r2 = r2_score(y_test, y_pred)\n",
    "\n",
    "print(\"Melhores parâmetros encontrados:\", best_params)\n",
    "print(f'MAE (Mean Absolute Error): {mae}')\n",
    "print(f'MSE (Mean Squared Error): {mse}')\n",
    "print(f'RMSE: {rmse}')\n",
    "print(f'R^2: {r2}')"
   ]
  },
  {
   "cell_type": "markdown",
   "id": "b0b690ba-b7a7-4666-bc0e-aa067f091c77",
   "metadata": {},
   "source": [
    "### Gráficos"
   ]
  },
  {
   "cell_type": "code",
   "execution_count": 60,
   "id": "3c0f2143-bd33-4e49-9a53-09f0e924dbaa",
   "metadata": {},
   "outputs": [
    {
     "data": {
      "image/png": "[encoded data removed]",
      "text/plain": [
       "<Figure size 800x600 with 2 Axes>"
      ]
     },
     "metadata": {},
     "output_type": "display_data"
    }
   ],
   "source": [
    "# Heatmap of RMSE values for each hyperparameter combination\n",
    "results = pd.DataFrame(grid_search.cv_results_)\n",
    "results['rmse'] = (-results['mean_test_score'])**0.5\n",
    "\n",
    "pivot = results.pivot(index='param_max_depth', columns='param_learning_rate', values='rmse')\n",
    "\n",
    "plt.figure(figsize=(8, 6))\n",
    "sns.heatmap(pivot, annot=True, fmt=\".2f\", cmap=\"viridis\")\n",
    "plt.title(\"RMSE por combinação de hiperparâmetros\")\n",
    "plt.xlabel(\"Learning rate\")\n",
    "plt.ylabel(\"Max depth\")\n",
    "plt.show()\n"
   ]
  },
  {
   "cell_type": "code",
   "execution_count": 61,
   "id": "e7b5dafc-4c15-4d7a-a10f-4297e5e8b80c",
   "metadata": {},
   "outputs": [
    {
     "data": {
      "image/png": "[encoded data removed]",
      "text/plain": [
       "<Figure size 640x480 with 1 Axes>"
      ]
     },
     "metadata": {},
     "output_type": "display_data"
    }
   ],
   "source": [
    "# Horizontal bar chart of Feature Importance\n",
    "xgb.plot_importance(best_model)\n",
    "plt.title(\"Importância das Features\")\n",
    "plt.show()"
   ]
  },
  {
   "cell_type": "markdown",
   "id": "fe352dd4-b371-4a48-aa31-ce9d713ae8ad",
   "metadata": {},
   "source": [
    "### **LogisticRegression**"
   ]
  },
  {
   "cell_type": "code",
   "execution_count": 62,
   "id": "2e07d21e-51ee-4d9e-b34b-d14660894271",
   "metadata": {},
   "outputs": [],
   "source": [
    "# Create fare classes based on fare_amount\n",
    "def categorizar_tarifa(fare):\n",
    "    if fare <= 10:\n",
    "        return 0  # barato\n",
    "    elif fare <= 30:\n",
    "        return 1  # médio\n",
    "    else:\n",
    "        return 2  # caro\n",
    "\n",
    "df['fare_class'] = df['fare_amount'].apply(categorizar_tarifa)"
   ]
  },
  {
   "cell_type": "code",
   "execution_count": 63,
   "id": "6e9e723e-7557-4543-9f40-67916f6d4225",
   "metadata": {},
   "outputs": [],
   "source": [
    "# Selecionar as features e a variável target para a regressão\n",
    "X_cls = df[['duration', 'trip_distance']]\n",
    "y_cls = df['fare_class']"
   ]
  },
  {
   "cell_type": "code",
   "execution_count": 64,
   "id": "ba35eebb-f58f-493b-82d5-410e0126ba85",
   "metadata": {},
   "outputs": [],
   "source": [
    "# Split into training and testing\n",
    "X_train_cls, X_test_cls, y_train_cls, y_test_cls = train_test_split(X_cls, y_cls, test_size=0.2, random_state=28)"
   ]
  },
  {
   "cell_type": "code",
   "execution_count": 65,
   "id": "7d4591a2-7a03-4384-ac41-73a7619a8de2",
   "metadata": {},
   "outputs": [],
   "source": [
    "# Create a classification model\n",
    "logreg_base = LogisticRegression(max_iter=1000)"
   ]
  },
  {
   "cell_type": "markdown",
   "id": "5aefad0f-bbc2-4bf9-908a-f5f4ea0e3515",
   "metadata": {},
   "source": [
    "*K-Fold Cross Validation (k=5)*"
   ]
  },
  {
   "cell_type": "code",
   "execution_count": 66,
   "id": "a995d115-5a0b-4b96-a82b-6f4cf1284b5c",
   "metadata": {},
   "outputs": [
    {
     "name": "stdout",
     "output_type": "stream",
     "text": [
      "Cross-validation F1-score (modelo base): [0.89014575 0.89163465 0.89010352 0.89430408 0.88948354]\n",
      "F1-score médio: 0.8911343053638208\n"
     ]
    }
   ],
   "source": [
    "# Evaluate the performance of the classification model (LogisticRegression) using 5-fold cross-validation\n",
    "cv_scores_cls = cross_val_score(logreg_base, X_train_cls, y_train_cls, cv=5, scoring='f1_macro')\n",
    "\n",
    "print(\"Cross-validation F1-score (modelo base):\", cv_scores_cls)\n",
    "print(\"F1-score médio:\", np.mean(cv_scores_cls))"
   ]
  },
  {
   "cell_type": "markdown",
   "id": "e13dd12b-a55d-4317-bcb0-8277e465d87c",
   "metadata": {},
   "source": [
    "*Hyperparameter tuning*"
   ]
  },
  {
   "cell_type": "code",
   "execution_count": 67,
   "id": "ea5c2907-d500-4319-bd15-dace3678624d",
   "metadata": {},
   "outputs": [
    {
     "name": "stdout",
     "output_type": "stream",
     "text": [
      "Fitting 3 folds for each of 4 candidates, totalling 12 fits\n"
     ]
    }
   ],
   "source": [
    "# Perform hyperparameter tuning of the LogisticRegression model using GridSearchCV with cross-validation (cv=3)\n",
    "# The features are pre-normalized using StandardScaler to ensure better performance and model convergence\n",
    "\n",
    "param_grid_logreg = {\n",
    "    'C': [0.01, 0.1, 1, 10],\n",
    "    'penalty': ['l2']\n",
    "}\n",
    "\n",
    "grid_search_logreg = GridSearchCV(\n",
    "    estimator=LogisticRegression(max_iter=1000),\n",
    "    param_grid=param_grid_logreg,\n",
    "    scoring='f1_macro',\n",
    "    cv=3,\n",
    "    n_jobs=1,\n",
    "    verbose=1\n",
    ")\n",
    "\n",
    "scaler = StandardScaler()\n",
    "X_train_cls_scaled = scaler.fit_transform(X_train_cls)\n",
    "X_test_cls_scaled = scaler.transform(X_test_cls)\n",
    "\n",
    "grid_search_logreg.fit(X_train_cls_scaled, y_train_cls)\n",
    "best_logreg = grid_search_logreg.best_estimator_"
   ]
  },
  {
   "cell_type": "code",
   "execution_count": 68,
   "id": "59d56424-9c11-4060-b3bf-775a20d91785",
   "metadata": {},
   "outputs": [
    {
     "name": "stdout",
     "output_type": "stream",
     "text": [
      "Melhores parâmetros encontrados: {'C': 0.1, 'penalty': 'l2'}\n",
      "Acuracy: 0.93\n",
      "Precison média: 0.93\n",
      "Recall médio: 0.86\n",
      "F1-score médio: 0.89\n"
     ]
    }
   ],
   "source": [
    "y_pred_cls = best_logreg.predict(X_test_cls_scaled)\n",
    "\n",
    "# Calculation of Classification Metrics\n",
    "acc = accuracy_score(y_test_cls, y_pred_cls)\n",
    "prec = precision_score(y_test_cls, y_pred_cls, average='macro')\n",
    "rec = recall_score(y_test_cls, y_pred_cls, average='macro')\n",
    "f1 = f1_score(y_test_cls, y_pred_cls, average='macro')\n",
    "\n",
    "print(\"Melhores parâmetros encontrados:\", grid_search_logreg.best_params_)\n",
    "print(f\"Acuracy: {acc:.2f}\")\n",
    "print(f\"Precison média: {prec:.2f}\")\n",
    "print(f\"Recall médio: {rec:.2f}\")\n",
    "print(f\"F1-score médio: {f1:.2f}\")"
   ]
  },
  {
   "cell_type": "markdown",
   "id": "9d9d2442-3b41-44af-80be-a61aff81e960",
   "metadata": {},
   "source": [
    "### Gráficos"
   ]
  },
  {
   "cell_type": "code",
   "execution_count": 69,
   "id": "1c3b1b75-c356-4be3-9dee-81fc5a1ceb6d",
   "metadata": {},
   "outputs": [
    {
     "data": {
      "image/png": "[encoded data removed]",
      "text/plain": [
       "<Figure size 640x480 with 2 Axes>"
      ]
     },
     "metadata": {},
     "output_type": "display_data"
    }
   ],
   "source": [
    "# Confusion Matrix Heatmap\n",
    "ConfusionMatrixDisplay.from_estimator(\n",
    "    best_logreg,\n",
    "    X_test_cls_scaled,\n",
    "    y_test_cls,\n",
    "    display_labels=[\"Barato\", \"Médio\", \"Caro\"],\n",
    "    cmap='Blues'\n",
    ")\n",
    "plt.title(\"Matriz de Confusão - Logistic Regression\")\n",
    "plt.show()"
   ]
  },
  {
   "cell_type": "code",
   "execution_count": 70,
   "id": "23235711-424b-40fe-82d9-7c09db8814de",
   "metadata": {},
   "outputs": [
    {
     "data": {
      "image/png": "[encoded data removed]",
      "text/plain": [
       "<Figure size 640x480 with 1 Axes>"
      ]
     },
     "metadata": {},
     "output_type": "display_data"
    }
   ],
   "source": [
    "# Bar Chart of Metrics per Class\n",
    "\n",
    "report = classification_report(y_test_cls, y_pred_cls, output_dict=True)\n",
    "df_report = pd.DataFrame(report).transpose().iloc[:3]  # apenas as 3 classes\n",
    "\n",
    "df_report[['precision', 'recall', 'f1-score']].plot(kind='bar')\n",
    "plt.title(\"Metrics per Class - Logistic Regression\")\n",
    "plt.ylabel(\"Score\")\n",
    "plt.xlabel(\"Fare Category\")  # eixo X com legenda\n",
    "plt.xticks(ticks=range(3), labels=[\"Barato\", \"Médio\", \"Caro\"], rotation=0)\n",
    "plt.ylim(0, 1.1)\n",
    "plt.grid(True)\n",
    "plt.legend(title=\"Metric\")\n",
    "plt.tight_layout()\n",
    "plt.show()"
   ]
  },
  {
   "cell_type": "code",
   "execution_count": null,
   "id": "205f7e27-4f76-4a55-a9e9-2bbbeedc9fa8",
   "metadata": {},
   "outputs": [],
   "source": []
  }
 ],
 "metadata": {
  "kernelspec": {
   "display_name": "Python 3 (ipykernel)",
   "language": "python",
   "name": "python3"
  },
  "language_info": {
   "codemirror_mode": {
    "name": "ipython",
    "version": 3
   },
   "file_extension": ".py",
   "mimetype": "text/x-python",
   "name": "python",
   "nbconvert_exporter": "python",
   "pygments_lexer": "ipython3",
   "version": "3.10.0"
  }
 },
 "nbformat": 4,
 "nbformat_minor": 5
}
